{
 "cells": [
  {
   "cell_type": "markdown",
   "metadata": {},
   "source": [
    "### Programming Session Week 3\n",
    "\n",
    "In this session we will continue to work on regression and we will extend our toolbox to include an additional set of classification methods. "
   ]
  },
  {
   "cell_type": "markdown",
   "metadata": {},
   "source": [
    "### Exercise 1\n",
    "\n",
    "#### Exercise 1.a\n",
    "\n",
    "The model below was generated using a degree 2 polynomial. Study the evolution of the MSE for various degrees from 1 to 5 and by generating your training and test sets as noisy samples from the true quadratic function. Use $K$-fold cross validation to retrieve the correct model complexity out the possible maximum degrees."
   ]
  },
  {
   "cell_type": "code",
   "execution_count": 2,
   "metadata": {},
   "outputs": [
    {
     "data": {
      "image/png": "[encoded data removed]",
      "text/plain": [
       "<Figure size 432x288 with 1 Axes>"
      ]
     },
     "metadata": {
      "needs_background": "light"
     },
     "output_type": "display_data"
    }
   ],
   "source": [
    "import numpy as np\n",
    "import matplotlib.pyplot as plt\n",
    "\n",
    "x_true = np.linspace(0,1,100)\n",
    "x_sample = np.linspace(0,1,10)\n",
    "t_true = 0.1 + 0.1*x_true + x_true**2\n",
    "t_sample = 0.1 + 0.1*x_sample + x_sample**2\n",
    "t_sample = t_sample + np.random.normal(0,.1,len(x_sample))\n",
    "\n",
    "plt.plot(x_true, t_true)\n",
    "plt.scatter(x_sample, t_sample, c='r')\n",
    "plt.show()\n"
   ]
  },
  {
   "cell_type": "code",
   "execution_count": 3,
   "metadata": {},
   "outputs": [
    {
     "ename": "NameError",
     "evalue": "name 'k' is not defined",
     "output_type": "error",
     "traceback": [
      "\u001b[0;31m---------------------------------------------------------------------------\u001b[0m",
      "\u001b[0;31mNameError\u001b[0m                                 Traceback (most recent call last)",
      "\u001b[0;32m/var/folders/c7/xkjxz2356_d2gz5kpzz904sc0000gn/T/ipykernel_78179/2240042601.py\u001b[0m in \u001b[0;36m<module>\u001b[0;34m\u001b[0m\n\u001b[1;32m      9\u001b[0m     \u001b[0mcolumns\u001b[0m \u001b[0;34m=\u001b[0m \u001b[0mnp\u001b[0m\u001b[0;34m.\u001b[0m\u001b[0marange\u001b[0m\u001b[0;34m(\u001b[0m\u001b[0;36m1\u001b[0m\u001b[0;34m,\u001b[0m\u001b[0;36m6\u001b[0m\u001b[0;34m)\u001b[0m\u001b[0;34m\u001b[0m\u001b[0;34m\u001b[0m\u001b[0m\n\u001b[1;32m     10\u001b[0m \u001b[0;34m\u001b[0m\u001b[0m\n\u001b[0;32m---> 11\u001b[0;31m     \u001b[0msubsets\u001b[0m \u001b[0;34m=\u001b[0m \u001b[0mlist\u001b[0m\u001b[0;34m(\u001b[0m\u001b[0mitertools\u001b[0m\u001b[0;34m.\u001b[0m\u001b[0mcombinations\u001b[0m\u001b[0;34m(\u001b[0m\u001b[0mcolumns\u001b[0m\u001b[0;34m,\u001b[0m \u001b[0mk\u001b[0m\u001b[0;34m)\u001b[0m\u001b[0;34m)\u001b[0m\u001b[0;34m\u001b[0m\u001b[0;34m\u001b[0m\u001b[0m\n\u001b[0m\u001b[1;32m     12\u001b[0m \u001b[0;34m\u001b[0m\u001b[0m\n\u001b[1;32m     13\u001b[0m     \u001b[0;32mfor\u001b[0m \u001b[0msubset\u001b[0m \u001b[0;32min\u001b[0m \u001b[0msubsets\u001b[0m\u001b[0;34m:\u001b[0m\u001b[0;34m\u001b[0m\u001b[0;34m\u001b[0m\u001b[0m\n",
      "\u001b[0;31mNameError\u001b[0m: name 'k' is not defined"
     ]
    }
   ],
   "source": [
    "import itertools\n",
    "\n",
    "from sklearn.linear_model import LinearRegression\n",
    "\n",
    "\n",
    "\n",
    "for subset_sizes in np.arange(2,6):\n",
    "    \n",
    "    columns = np.arange(1,6)\n",
    "    \n",
    "    subsets = list(itertools.combinations(columns, k))\n",
    "    \n",
    "    for subset in subsets:\n",
    "        \n",
    "        for numXP in np.arange(2):\n",
    "            \n",
    "            featureMat_tmp = X[numXp*CV_size : (numXp+1)*CV_size, :]\n",
    "            \n",
    "            features_subset = np.zeros((np.shape(featureMat_tmp)[0], subset_sizes))\n",
    "            \n",
    "            l = 0\n",
    "            for k in subset:\n",
    "                \n",
    "                features_subset[:,l] = featureMat_tmp[:,k]\n",
    "                l+=1\n",
    "            \n",
    "            reg = LinearRegression().fit(features_subset, t_sample[numXp*CV_size : \\\n",
    "                                                                   (numXp+1)*CV_size])"
   ]
  },
  {
   "cell_type": "markdown",
   "metadata": {},
   "source": [
    "### Exercise 2\n",
    "\n",
    "#### Exercise 2.a\n",
    "\n",
    "Using the OLS loss, try to learn a classifier for the dataset given below. "
   ]
  },
  {
   "cell_type": "code",
   "execution_count": 4,
   "metadata": {},
   "outputs": [
    {
     "data": {
      "image/png": "[encoded data removed]",
      "text/plain": [
       "<Figure size 432x288 with 1 Axes>"
      ]
     },
     "metadata": {
      "needs_background": "light"
     },
     "output_type": "display_data"
    }
   ],
   "source": [
    "\n",
    "import scipy.io\n",
    "import matplotlib.pyplot as plt\n",
    "\n",
    "data_class1 = scipy.io.loadmat('points_class1_Lab2_Ex1.mat')['points_class1_Lab2_Ex1']\n",
    "data_class2 = scipy.io.loadmat('points_class2_Lab2_Ex1.mat')['points_class2_Lab2_Ex1']\n",
    "\n",
    "plt.scatter(data_class1[:,0], data_class1[:,1])\n",
    "plt.scatter(data_class2[:,0], data_class2[:,1])\n",
    "plt.show()"
   ]
  },
  {
   "cell_type": "code",
   "execution_count": 14,
   "metadata": {},
   "outputs": [
    {
     "name": "stdout",
     "output_type": "stream",
     "text": [
      "[[0.13997696 0.48248175]\n",
      " [0.17453917 0.63138686]\n",
      " [0.11002304 0.54087591]\n",
      " [0.12154378 0.7540146 ]\n",
      " [0.27822581 0.78905109]\n",
      " [0.24827189 0.70729927]\n",
      " [0.40264977 0.78029197]\n",
      " [0.50403226 0.80948905]\n",
      " [0.5985023  0.80948905]\n",
      " [0.66532258 0.85328467]\n",
      " [0.39573733 0.91167883]\n",
      " [0.34274194 0.86788321]\n",
      " [0.19758065 0.89124088]\n",
      " [0.18145161 0.75985401]\n",
      " [0.1031106  0.43284672]\n",
      " [0.08698157 0.28394161]\n",
      " [0.16301843 0.35985401]\n",
      " [0.21370968 0.30729927]\n",
      " [0.22292627 0.20218978]\n",
      " [0.1906682  0.10291971]\n",
      " [0.12154378 0.1379562 ]\n",
      " [0.16532258 0.25182482]\n",
      " [0.10080645 0.21094891]\n",
      " [0.48099078 0.85328467]\n",
      " [0.12154378 0.91751825]\n",
      " [0.70449309 0.78321168]\n",
      " [0.81970046 0.81824818]\n",
      " [0.85656682 0.78029197]\n",
      " [0.4671659  0.73357664]\n",
      " [0.34965438 0.69270073]\n",
      " [0.25288018 0.60510949]\n",
      " [0.2390553  0.4270073 ]\n",
      " [0.19758065 0.52627737]\n",
      " [0.26209677 0.11459854]\n",
      " [0.33813364 0.08540146]\n",
      " [0.36117512 0.0270073 ]\n",
      " [0.09158986 0.05328467]\n",
      " [0.25057604 0.04160584]\n",
      " [0.10771889 0.63430657]\n",
      " [0.26440092 0.9379562 ]\n",
      " [0.62615207 0.92919708]\n",
      " [0.76440092 0.92043796]\n",
      " [0.53629032 0.90875912]\n",
      " [0.85887097 0.87956204]\n",
      " [0.74135945 0.85912409]] [[1.]\n",
      " [1.]\n",
      " [1.]\n",
      " [1.]\n",
      " [1.]\n",
      " [1.]\n",
      " [1.]\n",
      " [1.]\n",
      " [1.]\n",
      " [1.]\n",
      " [1.]\n",
      " [1.]\n",
      " [1.]\n",
      " [1.]\n",
      " [1.]\n",
      " [1.]\n",
      " [1.]\n",
      " [1.]\n",
      " [1.]\n",
      " [1.]\n",
      " [1.]\n",
      " [1.]\n",
      " [1.]\n",
      " [1.]\n",
      " [1.]\n",
      " [1.]\n",
      " [1.]\n",
      " [1.]\n",
      " [1.]\n",
      " [1.]\n",
      " [1.]\n",
      " [1.]\n",
      " [1.]\n",
      " [1.]\n",
      " [1.]\n",
      " [1.]\n",
      " [1.]\n",
      " [1.]\n",
      " [1.]\n",
      " [1.]\n",
      " [1.]\n",
      " [1.]\n",
      " [1.]\n",
      " [1.]\n",
      " [1.]\n",
      " [0.]\n",
      " [0.]\n",
      " [0.]\n",
      " [0.]\n",
      " [0.]\n",
      " [0.]\n",
      " [0.]\n",
      " [0.]\n",
      " [0.]\n",
      " [0.]\n",
      " [0.]\n",
      " [0.]\n",
      " [0.]\n",
      " [0.]\n",
      " [0.]\n",
      " [0.]\n",
      " [0.]\n",
      " [0.]\n",
      " [0.]\n",
      " [0.]\n",
      " [0.]\n",
      " [0.]\n",
      " [0.]\n",
      " [0.]\n",
      " [0.]\n",
      " [0.]\n",
      " [0.]\n",
      " [0.]\n",
      " [0.]\n",
      " [0.]\n",
      " [0.]\n",
      " [0.]\n",
      " [0.]\n",
      " [0.]\n",
      " [0.]\n",
      " [0.]\n",
      " [0.]\n",
      " [0.]]\n"
     ]
    }
   ],
   "source": [
    "import numpy as np\n",
    "\n",
    "\n",
    "data = np.vstack((data_class1, data_class2))\n",
    "\n",
    "\n",
    "target_class1 = np.ones((np.shape(data_class1)[0], 1))\n",
    "target_class2 = np.zeros((np.shape(data_class2)[0], 1))\n",
    "\n",
    "target = np.vstack((target_class1, target_class2))\n",
    "print(data_class1, target)"
   ]
  },
  {
   "cell_type": "code",
   "execution_count": 16,
   "metadata": {},
   "outputs": [
    {
     "name": "stdout",
     "output_type": "stream",
     "text": [
      "(1000, 1000) (1000000,)\n"
     ]
    }
   ],
   "source": [
    "from sklearn.linear_model import LinearRegression\n",
    "\n",
    "classsifier = LinearRegression().fit(data, target)\n",
    "\n",
    "x1min = np.min(data[:,0])\n",
    "x1max = np.max(data[:,0])\n",
    "x2min = np.min(data[:,1])\n",
    "x2max = np.max(data[:,1])\n",
    "\n",
    "xx1, xx2 = np.meshgrid(np.linspace(x1min, x1max, 1000), \\\n",
    "                       np.linspace(x2min, x2max, 1000))\n",
    "\n",
    "\n",
    "Xprediction = np.vstack((xx1.flatten(), xx2.flatten())).T\n",
    "\n",
    "prediction = classsifier.predict(Xprediction)\n",
    "\n",
    "print(xx1.shape, xx1.flatten().shape)"
   ]
  },
  {
   "cell_type": "code",
   "execution_count": null,
   "metadata": {},
   "outputs": [],
   "source": [
    "from matplotlib.colors import ListedColormap\n",
    "cm_bright = ListedColormap([\"#0000FF\", \"#FF0000\"])\n",
    "\n",
    "plt.scatter(data_class1[:,0], data_class1[:,1], c='r')\n",
    "plt.scatter(data_class2[:,0], data_class2[:,1], c='b')\n",
    "\n",
    "plt.contourf(xx1, xx2, np.reshape(prediction>1/2, np.shape(xx1)), \\\n",
    "             alpha=0.2, cmap = cm_bright)\n",
    "\n",
    "\n",
    "plt.show()"
   ]
  },
  {
   "cell_type": "markdown",
   "metadata": {},
   "source": [
    "#### Exercise 2.b\n",
    "\n",
    "How could you extend your classifier to the dataset shown below."
   ]
  },
  {
   "cell_type": "code",
   "execution_count": 12,
   "metadata": {},
   "outputs": [
    {
     "data": {
      "image/png": "[encoded data removed]",
      "text/plain": [
       "<Figure size 432x288 with 1 Axes>"
      ]
     },
     "metadata": {
      "needs_background": "light"
     },
     "output_type": "display_data"
    },
    {
     "data": {
      "image/png": "[encoded data removed]",
      "text/plain": [
       "<Figure size 432x288 with 1 Axes>"
      ]
     },
     "metadata": {
      "needs_background": "light"
     },
     "output_type": "display_data"
    }
   ],
   "source": [
    "import scipy.io\n",
    "import matplotlib.pyplot as plt\n",
    "\n",
    "data_class1 = scipy.io.loadmat('points_class1_Lab2_Ex2.mat')['points_class1_Lab2_Ex2']\n",
    "data_class2 = scipy.io.loadmat('points_class2_Lab2_Ex2.mat')['points_class2_Lab2_Ex2']\n",
    "\n",
    "plt.scatter(data_class1[:,0], data_class1[:,1])\n",
    "plt.scatter(data_class2[:,0], data_class2[:,1])\n",
    "plt.show()\n",
    "\n",
    "data = np.vstack((data_class1, data_class2))\n",
    "target1 = np.ones((np.shape(data_class1)[0], 1))\n",
    "target2 = np.zeros((np.shape(data_class2)[0], 1))\n",
    "targets = np.vstack((target1, target2))\n",
    "\n",
    "from sklearn.preprocessing import PolynomialFeatures\n",
    "\n",
    "poly = PolynomialFeatures(10)\n",
    "\n",
    "data_augmented = poly.fit_transform(data)\n",
    "\n",
    "classifier = LinearRegression().fit(data_augmented, targets)\n",
    "\n",
    "\n",
    "x1min = np.min(data[:,0])\n",
    "x1max = np.max(data[:,0])\n",
    "x2min = np.min(data[:,1])\n",
    "x2max = np.max(data[:,1])\n",
    "\n",
    "xx1, xx2 = np.meshgrid(np.linspace(x1min, x1max, 1000), \\\n",
    "                       np.linspace(x2min, x2max, 1000))\n",
    "\n",
    "\n",
    "Xprediction = np.vstack((xx1.flatten(), xx2.flatten())).T\n",
    "\n",
    "\n",
    "Xprediction_augmented = poly.fit_transform(Xprediction)\n",
    "\n",
    "prediction = classifier.predict(Xprediction_augmented)\n",
    "\n",
    "\n",
    "from matplotlib.colors import ListedColormap\n",
    "cm_bright = ListedColormap([\"#0000FF\", \"#FF0000\"])\n",
    "\n",
    "plt.scatter(data_class1[:,0], data_class1[:,1], c='r')\n",
    "plt.scatter(data_class2[:,0], data_class2[:,1], c='b')\n",
    "\n",
    "plt.contourf(xx1,xx2, np.reshape(prediction>1/2, np.shape(xx1)), \\\n",
    "             alpha=0.2,cmap = cm_bright)\n",
    "plt.show()\n",
    "\n"
   ]
  },
  {
   "cell_type": "code",
   "execution_count": null,
   "metadata": {},
   "outputs": [],
   "source": []
  },
  {
   "cell_type": "markdown",
   "metadata": {},
   "source": [
    "#### Exercise 2.c\n",
    "\n",
    "We now want to use the OLS to learn a multi-class classifier for the dataset below. Start by coding the one-vs-one and one-vs-rest classifiers. Then use the a single \n",
    " discriminant function with one hot encoding of the classes.\n",
    "    "
   ]
  },
  {
   "cell_type": "code",
   "execution_count": 5,
   "metadata": {},
   "outputs": [
    {
     "data": {
      "image/png": "[encoded data removed]",
      "text/plain": [
       "<Figure size 432x288 with 1 Axes>"
      ]
     },
     "metadata": {
      "needs_background": "light"
     },
     "output_type": "display_data"
    }
   ],
   "source": [
    "import scipy.io\n",
    "import matplotlib.pyplot as plt\n",
    "\n",
    "data_class1 = scipy.io.loadmat('points_class1_Lab2_Ex3.mat')['points_class1_Lab2_Ex3']\n",
    "data_class2 = scipy.io.loadmat('points_class2_Lab2_Ex3.mat')['points_class2_Lab2_Ex3']\n",
    "data_class3 = scipy.io.loadmat('points_class3_Lab2_Ex3.mat')['points_class3_Lab2_Ex3']\n",
    "data_class4 = scipy.io.loadmat('points_class4_Lab2_Ex3.mat')['points_class4_Lab2_Ex3']\n",
    "data_class5 = scipy.io.loadmat('points_class5_Lab2_Ex3.mat')['points_class5_Lab2_Ex3']\n",
    "\n",
    "\n",
    "\n",
    "plt.scatter(data_class1[:,0], data_class1[:,1])\n",
    "plt.scatter(data_class2[:,0], data_class2[:,1])\n",
    "plt.scatter(data_class3[:,0], data_class3[:,1])\n",
    "plt.scatter(data_class4[:,0], data_class4[:,1])\n",
    "plt.scatter(data_class5[:,0], data_class5[:,1])\n",
    "plt.show()"
   ]
  },
  {
   "cell_type": "markdown",
   "metadata": {},
   "source": [
    "### Exercise 3. \n",
    "\n",
    "#### Exercise 3.a \n",
    "\n",
    "Use the OLS classifier from scikit-learn to classify the flowers from the [iris dataset](https://www.kaggle.com/uciml/iris) into the 3 species. Don't forget to split your dataset into a training and a test part so that you evaluate it properly once it has been trained (you can rely on scikit learn's train_test_split function)\n",
    "    "
   ]
  },
  {
   "cell_type": "code",
   "execution_count": null,
   "metadata": {},
   "outputs": [],
   "source": [
    "import numpy as np\n",
    "from sklearn.linear_model import LinearRegression\n",
    "from sklearn.model_selection import train_test_split\n",
    "\n"
   ]
  },
  {
   "cell_type": "markdown",
   "metadata": {},
   "source": [
    "#### Exercise 3.a \n",
    "Do the same with the [https://www.kaggle.com/c/titanic](titanic dataset) and try to learn a model that can efficiently predict which passengers are going to survive the wreck. "
   ]
  },
  {
   "cell_type": "code",
   "execution_count": null,
   "metadata": {},
   "outputs": [],
   "source": [
    "import numpy as np\n",
    "from sklearn.linear_model import LinearRegression\n",
    "from sklearn.model_selection import train_test_split\n",
    "\n"
   ]
  },
  {
   "cell_type": "markdown",
   "metadata": {},
   "source": [
    "### Exercise 4. \n",
    "\n",
    "#### Exercise 4.a \n",
    "\n",
    "In this 4th exercise, we will study the robustness of the OLS approach for classification. Consider the dataset below. \n",
    "\n",
    "- Start by learning a simple binary OLS classifier on that dataset (you can use the linear_regression model from scikit-learn). \n",
    "- Then try to force misclassification by adding a blue point on the far left of the dataset. \n",
    "- Once your updated dataset can be used to highlight misclassification by the OLS, replace the OLS classifier with the logistic regression classifier from scikit learn (on the same dataset). What do you notice ?\n"
   ]
  },
  {
   "cell_type": "code",
   "execution_count": 16,
   "metadata": {},
   "outputs": [
    {
     "data": {
      "image/png": "[encoded data removed]",
      "text/plain": [
       "<Figure size 432x288 with 1 Axes>"
      ]
     },
     "metadata": {
      "needs_background": "light"
     },
     "output_type": "display_data"
    }
   ],
   "source": [
    "\n",
    "import scipy.io\n",
    "import matplotlib.pyplot as plt\n",
    "\n",
    "data_class1 = scipy.io.loadmat('points_class1_Lab2_Ex4.mat')['points_class1_Lab2_Ex4']\n",
    "data_class2 = scipy.io.loadmat('points_class2_Lab2_Ex4.mat')['points_class2_Lab2_Ex4']\n",
    "\n",
    "plt.scatter(data_class1[:,0], data_class1[:,1])\n",
    "plt.scatter(data_class2[:,0], data_class2[:,1])\n",
    "plt.show()"
   ]
  }
 ],
 "metadata": {
  "kernelspec": {
   "display_name": "Python 3",
   "language": "python",
   "name": "python3"
  },
  "language_info": {
   "codemirror_mode": {
    "name": "ipython",
    "version": 3
   },
   "file_extension": ".py",
   "mimetype": "text/x-python",
   "name": "python",
   "nbconvert_exporter": "python",
   "pygments_lexer": "ipython3",
   "version": "3.9.9"
  }
 },
 "nbformat": 4,
 "nbformat_minor": 4
}
